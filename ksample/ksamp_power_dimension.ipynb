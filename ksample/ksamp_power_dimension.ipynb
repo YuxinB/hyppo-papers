{
 "cells": [
  {
   "cell_type": "code",
   "execution_count": 1,
   "metadata": {},
   "outputs": [],
   "source": [
    "import sys, os\n",
    "import multiprocessing as mp\n",
    "from joblib import Parallel, delayed\n",
    "\n",
    "import seaborn as sns\n",
    "import numpy as np\n",
    "import matplotlib.pyplot as plt\n",
    "\n",
    "from power_ksamp import power_ksamp_dimension\n",
    "from hyppo.independence import CCA, Dcorr, HHG, Hsic, RV, MGC, KMERF\n",
    "from hyppo.tools import *\n",
    "\n",
    "sys.path.append(os.path.realpath('..'))"
   ]
  },
  {
   "cell_type": "code",
   "execution_count": 2,
   "metadata": {},
   "outputs": [],
   "source": [
    "import seaborn as sns\n",
    "sns.set(color_codes=True, style='white', context='talk', font_scale=1.5)\n",
    "PALETTE = sns.color_palette(\"Set1\")\n",
    "sns.set_palette(PALETTE[1:5] + PALETTE[6:])"
   ]
  },
  {
   "cell_type": "markdown",
   "metadata": {},
   "source": [
    "These are some constants that are used in this notebook. If running these notebook, please only manipulate these constants if you are not running more tests. They define the sample sizes tested upon and the number of replications. The simulations tested over and the independence tests tested over are defined also."
   ]
  },
  {
   "cell_type": "code",
   "execution_count": 3,
   "metadata": {},
   "outputs": [],
   "source": [
    "from rpy2.robjects import Formula, numpy2ri\n",
    "from rpy2.robjects.packages import importr\n",
    "\n",
    "\n",
    "class Manova:\n",
    "    r\"\"\"\n",
    "    Wrapper of R MANOVA\n",
    "    \"\"\"\n",
    "    def __init__(self):\n",
    "        self.stats = importr('stats')\n",
    "        self.r_base = importr('base')\n",
    "        \n",
    "        numpy2ri.activate()\n",
    "\n",
    "        self.formula = Formula('X ~ Y')\n",
    "        self.env = self.formula.environment\n",
    "\n",
    "    def statistic(self, x, y):\n",
    "        r\"\"\"\n",
    "        Helper function to calculate the test statistic\n",
    "        \"\"\"\n",
    "        self.env['Y'] = y\n",
    "        self.env['X'] = x\n",
    "\n",
    "        stat = self.r_base.summary(self.stats.manova(self.formula), test=\"Pillai\", tol=0)[3][0, 1]\n",
    "\n",
    "        return stat"
   ]
  },
  {
   "cell_type": "code",
   "execution_count": 17,
   "metadata": {},
   "outputs": [],
   "source": [
    "MAX_DIMENSION = 10\n",
    "STEP_SIZE = 1\n",
    "DIMENSIONS = range(1, MAX_DIMENSION + STEP_SIZE, STEP_SIZE)\n",
    "POWER_REPS = 5"
   ]
  },
  {
   "cell_type": "code",
   "execution_count": 5,
   "metadata": {},
   "outputs": [],
   "source": [
    "SIMULATIONS = {\n",
    "    \"linear\": \"Linear\",\n",
    "    \"exponential\": \"Exponential\",\n",
    "    \"cubic\": \"Cubic\",\n",
    "    \"joint_normal\": \"Joint Normal\",\n",
    "    \"step\": \"Step\",\n",
    "    \"quadratic\": \"Quadratic\",\n",
    "    \"w_shaped\": \"W-Shaped\",\n",
    "    \"spiral\": \"Spiral\",\n",
    "    \"uncorrelated_bernoulli\": \"Bernoulli\",\n",
    "    \"logarithmic\": \"Logarithmic\",\n",
    "    \"fourth_root\": \"Fourth Root\",\n",
    "    \"sin_four_pi\": \"Sine 4\\u03C0\",\n",
    "    \"sin_sixteen_pi\": \"Sine 16\\u03C0\",\n",
    "    \"square\": \"Square\",\n",
    "    \"two_parabolas\": \"Two Parabolas\",\n",
    "    \"circle\": \"Circle\",\n",
    "    \"ellipse\": \"Ellipse\",\n",
    "    \"diamond\": \"Diamond\",\n",
    "    \"multiplicative_noise\": \"Multiplicative\",\n",
    "    \"multimodal_independence\": \"Independence\"\n",
    "}\n",
    "\n",
    "TESTS = [\n",
    "    KMERF,\n",
    "    MGC,\n",
    "    Dcorr,\n",
    "    Hsic,\n",
    "    Manova,\n",
    "    HHG,\n",
    "    CCA,\n",
    "    RV,\n",
    "]"
   ]
  },
  {
   "cell_type": "markdown",
   "metadata": {},
   "source": [
    "The following function calculates the estimated power ``POWER_REPS`` number off times and averages them. It does this iterating over the number of sample sizes.\n",
    "\n",
    "**Note: We only recommend running this code if running the next 2 cells ONCE to generate the csv files used to visualize the plots. This code takes a very long time to run and if running, we recommend using a machine with many cores.**"
   ]
  },
  {
   "cell_type": "code",
   "execution_count": 6,
   "metadata": {},
   "outputs": [],
   "source": [
    "def estimate_power(sim, test):\n",
    "    est_power = np.array([np.mean([power_ksamp_dimension(test, rot_ksamp, sim, p=i) for _ in range(POWER_REPS)])\n",
    "                          for i in DIMENSIONS])\n",
    "    np.savetxt('../ksample/ksamp_vs_dimension/{}_{}.csv'.format(sim, test.__name__),\n",
    "               est_power, delimiter=',')\n",
    "    \n",
    "    return est_power"
   ]
  },
  {
   "cell_type": "code",
   "execution_count": 7,
   "metadata": {
    "scrolled": true
   },
   "outputs": [
    {
     "name": "stdout",
     "output_type": "stream",
     "text": [
      "[Parallel(n_jobs=-1)]: Using backend LokyBackend with 16 concurrent workers.\n"
     ]
    },
    {
     "name": "stderr",
     "output_type": "stream",
     "text": [
      "Unable to determine R library path: Command '('/Library/Frameworks/R.framework/Resources/bin/Rscript', '-e', 'cat(Sys.getenv(\"LD_LIBRARY_PATH\"))')' returned non-zero exit status 2.\n",
      "Unable to determine R library path: Command '('/Library/Frameworks/R.framework/Resources/bin/Rscript', '-e', 'cat(Sys.getenv(\"LD_LIBRARY_PATH\"))')' returned non-zero exit status 2.\n"
     ]
    },
    {
     "name": "stdout",
     "output_type": "stream",
     "text": [
      "[Parallel(n_jobs=-1)]: Done   1 tasks      | elapsed:  1.2min\n",
      "[Parallel(n_jobs=-1)]: Done   2 tasks      | elapsed:  1.5min\n"
     ]
    },
    {
     "name": "stderr",
     "output_type": "stream",
     "text": [
      "Unable to determine R library path: Command '('/Library/Frameworks/R.framework/Resources/bin/Rscript', '-e', 'cat(Sys.getenv(\"LD_LIBRARY_PATH\"))')' returned non-zero exit status 2.\n"
     ]
    },
    {
     "name": "stdout",
     "output_type": "stream",
     "text": [
      "[Parallel(n_jobs=-1)]: Done   3 tasks      | elapsed:  2.8min\n",
      "[Parallel(n_jobs=-1)]: Done   4 tasks      | elapsed:  3.0min\n",
      "[Parallel(n_jobs=-1)]: Done   5 tasks      | elapsed:  4.7min\n",
      "[Parallel(n_jobs=-1)]: Done   6 tasks      | elapsed:  6.0min\n",
      "[Parallel(n_jobs=-1)]: Done   7 tasks      | elapsed: 11.3min\n",
      "[Parallel(n_jobs=-1)]: Done   8 tasks      | elapsed: 13.0min\n",
      "[Parallel(n_jobs=-1)]: Done   9 tasks      | elapsed: 13.1min\n"
     ]
    },
    {
     "name": "stderr",
     "output_type": "stream",
     "text": [
      "R[write to console]: There were 50 or more warnings (use warnings() to see the first 50)\n",
      "R[write to console]: \n",
      "\n",
      "/opt/miniconda3/envs/hyppo-dev/lib/python3.10/site-packages/joblib/externals/loky/process_executor.py:702: UserWarning: A worker stopped while some jobs were given to the executor. This can be caused by a too short worker timeout or by a memory leak.\n",
      "  warnings.warn(\n",
      "Unable to determine R library path: Command '('/Library/Frameworks/R.framework/Resources/bin/Rscript', '-e', 'cat(Sys.getenv(\"LD_LIBRARY_PATH\"))')' returned non-zero exit status 2.\n"
     ]
    },
    {
     "name": "stdout",
     "output_type": "stream",
     "text": [
      "[Parallel(n_jobs=-1)]: Done  10 tasks      | elapsed: 15.3min\n",
      "[Parallel(n_jobs=-1)]: Done  11 tasks      | elapsed: 15.4min\n",
      "[Parallel(n_jobs=-1)]: Done  12 tasks      | elapsed: 16.8min\n",
      "[Parallel(n_jobs=-1)]: Done  13 tasks      | elapsed: 20.5min\n",
      "[Parallel(n_jobs=-1)]: Done  14 tasks      | elapsed: 21.6min\n",
      "[Parallel(n_jobs=-1)]: Done  15 tasks      | elapsed: 25.2min\n",
      "[Parallel(n_jobs=-1)]: Done  16 tasks      | elapsed: 26.5min\n"
     ]
    },
    {
     "name": "stderr",
     "output_type": "stream",
     "text": [
      "Unable to determine R library path: Command '('/Library/Frameworks/R.framework/Resources/bin/Rscript', '-e', 'cat(Sys.getenv(\"LD_LIBRARY_PATH\"))')' returned non-zero exit status 2.\n"
     ]
    },
    {
     "name": "stdout",
     "output_type": "stream",
     "text": [
      "[Parallel(n_jobs=-1)]: Done  17 tasks      | elapsed: 27.2min\n",
      "[Parallel(n_jobs=-1)]: Done  18 tasks      | elapsed: 29.0min\n",
      "[Parallel(n_jobs=-1)]: Done  19 tasks      | elapsed: 29.3min\n",
      "[Parallel(n_jobs=-1)]: Done  20 tasks      | elapsed: 32.4min\n",
      "[Parallel(n_jobs=-1)]: Done  21 tasks      | elapsed: 32.4min\n",
      "[Parallel(n_jobs=-1)]: Done  22 tasks      | elapsed: 35.8min\n",
      "[Parallel(n_jobs=-1)]: Done  23 tasks      | elapsed: 39.2min\n",
      "[Parallel(n_jobs=-1)]: Done  24 tasks      | elapsed: 40.0min\n",
      "[Parallel(n_jobs=-1)]: Done  25 tasks      | elapsed: 45.6min\n",
      "[Parallel(n_jobs=-1)]: Done  26 tasks      | elapsed: 48.4min\n",
      "[Parallel(n_jobs=-1)]: Done  27 tasks      | elapsed: 48.7min\n",
      "[Parallel(n_jobs=-1)]: Done  28 tasks      | elapsed: 51.2min\n"
     ]
    },
    {
     "name": "stderr",
     "output_type": "stream",
     "text": [
      "R[write to console]: There were 50 or more warnings (use warnings() to see the first 50)\n",
      "R[write to console]: \n",
      "\n"
     ]
    },
    {
     "name": "stdout",
     "output_type": "stream",
     "text": [
      "[Parallel(n_jobs=-1)]: Done  29 tasks      | elapsed: 51.3min\n",
      "[Parallel(n_jobs=-1)]: Done  30 tasks      | elapsed: 58.0min\n"
     ]
    },
    {
     "name": "stderr",
     "output_type": "stream",
     "text": [
      "Unable to determine R library path: Command '('/Library/Frameworks/R.framework/Resources/bin/Rscript', '-e', 'cat(Sys.getenv(\"LD_LIBRARY_PATH\"))')' returned non-zero exit status 2.\n"
     ]
    },
    {
     "name": "stdout",
     "output_type": "stream",
     "text": [
      "[Parallel(n_jobs=-1)]: Done  31 tasks      | elapsed: 63.7min\n",
      "[Parallel(n_jobs=-1)]: Done  32 tasks      | elapsed: 69.8min\n",
      "[Parallel(n_jobs=-1)]: Done  33 tasks      | elapsed: 72.8min\n",
      "[Parallel(n_jobs=-1)]: Done  34 tasks      | elapsed: 73.0min\n",
      "[Parallel(n_jobs=-1)]: Done  35 tasks      | elapsed: 75.6min\n",
      "[Parallel(n_jobs=-1)]: Done  36 tasks      | elapsed: 85.5min\n",
      "[Parallel(n_jobs=-1)]: Done  37 tasks      | elapsed: 104.9min\n"
     ]
    },
    {
     "name": "stderr",
     "output_type": "stream",
     "text": [
      "Unable to determine R library path: Command '('/Library/Frameworks/R.framework/Resources/bin/Rscript', '-e', 'cat(Sys.getenv(\"LD_LIBRARY_PATH\"))')' returned non-zero exit status 2.\n"
     ]
    },
    {
     "name": "stdout",
     "output_type": "stream",
     "text": [
      "[Parallel(n_jobs=-1)]: Done  38 tasks      | elapsed: 106.2min\n",
      "[Parallel(n_jobs=-1)]: Done  39 tasks      | elapsed: 106.6min\n",
      "[Parallel(n_jobs=-1)]: Done  40 tasks      | elapsed: 108.0min\n",
      "[Parallel(n_jobs=-1)]: Done  41 tasks      | elapsed: 108.3min\n",
      "[Parallel(n_jobs=-1)]: Done  42 tasks      | elapsed: 109.4min\n",
      "[Parallel(n_jobs=-1)]: Done  43 tasks      | elapsed: 114.5min\n"
     ]
    },
    {
     "name": "stderr",
     "output_type": "stream",
     "text": [
      "R[write to console]: There were 50 or more warnings (use warnings() to see the first 50)\n",
      "R[write to console]: \n",
      "\n"
     ]
    },
    {
     "name": "stdout",
     "output_type": "stream",
     "text": [
      "[Parallel(n_jobs=-1)]: Done  44 tasks      | elapsed: 114.8min\n"
     ]
    },
    {
     "name": "stderr",
     "output_type": "stream",
     "text": [
      "Unable to determine R library path: Command '('/Library/Frameworks/R.framework/Resources/bin/Rscript', '-e', 'cat(Sys.getenv(\"LD_LIBRARY_PATH\"))')' returned non-zero exit status 2.\n"
     ]
    },
    {
     "name": "stdout",
     "output_type": "stream",
     "text": [
      "[Parallel(n_jobs=-1)]: Done  45 tasks      | elapsed: 119.5min\n",
      "[Parallel(n_jobs=-1)]: Done  46 tasks      | elapsed: 124.7min\n"
     ]
    },
    {
     "name": "stderr",
     "output_type": "stream",
     "text": [
      "R[write to console]: There were 50 or more warnings (use warnings() to see the first 50)\n",
      "R[write to console]: \n",
      "\n"
     ]
    },
    {
     "name": "stdout",
     "output_type": "stream",
     "text": [
      "[Parallel(n_jobs=-1)]: Done  47 tasks      | elapsed: 126.1min\n",
      "[Parallel(n_jobs=-1)]: Done  48 tasks      | elapsed: 126.6min\n",
      "[Parallel(n_jobs=-1)]: Done  49 tasks      | elapsed: 127.7min\n",
      "[Parallel(n_jobs=-1)]: Done  50 tasks      | elapsed: 133.7min\n",
      "[Parallel(n_jobs=-1)]: Done  51 tasks      | elapsed: 137.7min\n",
      "[Parallel(n_jobs=-1)]: Done  52 tasks      | elapsed: 140.5min\n",
      "[Parallel(n_jobs=-1)]: Done  53 tasks      | elapsed: 150.8min\n",
      "[Parallel(n_jobs=-1)]: Done  54 tasks      | elapsed: 152.8min\n",
      "[Parallel(n_jobs=-1)]: Done  55 tasks      | elapsed: 155.3min\n",
      "[Parallel(n_jobs=-1)]: Done  56 tasks      | elapsed: 155.4min\n",
      "[Parallel(n_jobs=-1)]: Done  57 tasks      | elapsed: 157.1min\n",
      "[Parallel(n_jobs=-1)]: Done  58 tasks      | elapsed: 165.1min\n",
      "[Parallel(n_jobs=-1)]: Done  59 tasks      | elapsed: 174.0min\n",
      "[Parallel(n_jobs=-1)]: Done  60 tasks      | elapsed: 174.3min\n",
      "[Parallel(n_jobs=-1)]: Done  61 tasks      | elapsed: 175.7min\n",
      "[Parallel(n_jobs=-1)]: Done  62 tasks      | elapsed: 175.9min\n",
      "[Parallel(n_jobs=-1)]: Done  63 tasks      | elapsed: 177.0min\n",
      "[Parallel(n_jobs=-1)]: Done  64 tasks      | elapsed: 189.4min\n",
      "[Parallel(n_jobs=-1)]: Done  65 tasks      | elapsed: 204.9min\n"
     ]
    },
    {
     "name": "stderr",
     "output_type": "stream",
     "text": [
      "Unable to determine R library path: Command '('/Library/Frameworks/R.framework/Resources/bin/Rscript', '-e', 'cat(Sys.getenv(\"LD_LIBRARY_PATH\"))')' returned non-zero exit status 2.\n"
     ]
    },
    {
     "name": "stdout",
     "output_type": "stream",
     "text": [
      "[Parallel(n_jobs=-1)]: Done  66 tasks      | elapsed: 211.6min\n",
      "[Parallel(n_jobs=-1)]: Done  67 tasks      | elapsed: 217.9min\n",
      "[Parallel(n_jobs=-1)]: Done  68 tasks      | elapsed: 222.6min\n",
      "[Parallel(n_jobs=-1)]: Done  69 tasks      | elapsed: 226.7min\n",
      "[Parallel(n_jobs=-1)]: Done  70 tasks      | elapsed: 227.6min\n",
      "[Parallel(n_jobs=-1)]: Done  71 tasks      | elapsed: 239.5min\n",
      "[Parallel(n_jobs=-1)]: Done  72 tasks      | elapsed: 252.0min\n"
     ]
    },
    {
     "name": "stderr",
     "output_type": "stream",
     "text": [
      "Unable to determine R library path: Command '('/Library/Frameworks/R.framework/Resources/bin/Rscript', '-e', 'cat(Sys.getenv(\"LD_LIBRARY_PATH\"))')' returned non-zero exit status 2.\n"
     ]
    },
    {
     "name": "stdout",
     "output_type": "stream",
     "text": [
      "[Parallel(n_jobs=-1)]: Done  73 tasks      | elapsed: 263.0min\n",
      "[Parallel(n_jobs=-1)]: Done  74 tasks      | elapsed: 267.7min\n",
      "[Parallel(n_jobs=-1)]: Done  75 tasks      | elapsed: 273.2min\n",
      "[Parallel(n_jobs=-1)]: Done  76 tasks      | elapsed: 277.8min\n",
      "[Parallel(n_jobs=-1)]: Done  77 tasks      | elapsed: 281.5min\n",
      "[Parallel(n_jobs=-1)]: Done  78 tasks      | elapsed: 294.2min\n",
      "[Parallel(n_jobs=-1)]: Done  79 tasks      | elapsed: 316.0min\n",
      "[Parallel(n_jobs=-1)]: Done  80 tasks      | elapsed: 328.8min\n",
      "[Parallel(n_jobs=-1)]: Done  81 tasks      | elapsed: 331.8min\n",
      "[Parallel(n_jobs=-1)]: Done  82 tasks      | elapsed: 336.3min\n",
      "[Parallel(n_jobs=-1)]: Done  83 tasks      | elapsed: 340.4min\n",
      "[Parallel(n_jobs=-1)]: Done  84 tasks      | elapsed: 376.9min\n",
      "[Parallel(n_jobs=-1)]: Done  85 tasks      | elapsed: 388.4min\n",
      "[Parallel(n_jobs=-1)]: Done  86 tasks      | elapsed: 409.1min\n",
      "[Parallel(n_jobs=-1)]: Done  87 tasks      | elapsed: 421.0min\n",
      "[Parallel(n_jobs=-1)]: Done  88 tasks      | elapsed: 436.4min\n",
      "[Parallel(n_jobs=-1)]: Done  89 tasks      | elapsed: 440.8min\n",
      "[Parallel(n_jobs=-1)]: Done  90 tasks      | elapsed: 444.8min\n",
      "[Parallel(n_jobs=-1)]: Done  91 tasks      | elapsed: 536.8min\n",
      "[Parallel(n_jobs=-1)]: Done  92 tasks      | elapsed: 550.1min\n",
      "[Parallel(n_jobs=-1)]: Done  93 tasks      | elapsed: 571.8min\n",
      "[Parallel(n_jobs=-1)]: Done  94 tasks      | elapsed: 583.7min\n",
      "[Parallel(n_jobs=-1)]: Done  95 tasks      | elapsed: 753.1min\n",
      "[Parallel(n_jobs=-1)]: Done  96 tasks      | elapsed: 754.2min\n",
      "[Parallel(n_jobs=-1)]: Done  97 tasks      | elapsed: 756.1min\n",
      "[Parallel(n_jobs=-1)]: Done  98 tasks      | elapsed: 757.7min\n",
      "[Parallel(n_jobs=-1)]: Done  99 tasks      | elapsed: 758.5min\n",
      "[Parallel(n_jobs=-1)]: Done 100 tasks      | elapsed: 770.5min\n"
     ]
    },
    {
     "name": "stderr",
     "output_type": "stream",
     "text": [
      "Unable to determine R library path: Command '('/Library/Frameworks/R.framework/Resources/bin/Rscript', '-e', 'cat(Sys.getenv(\"LD_LIBRARY_PATH\"))')' returned non-zero exit status 2.\n"
     ]
    },
    {
     "name": "stdout",
     "output_type": "stream",
     "text": [
      "[Parallel(n_jobs=-1)]: Done 101 tasks      | elapsed: 772.7min\n",
      "[Parallel(n_jobs=-1)]: Done 102 tasks      | elapsed: 777.0min\n",
      "[Parallel(n_jobs=-1)]: Done 103 tasks      | elapsed: 780.3min\n",
      "[Parallel(n_jobs=-1)]: Done 104 tasks      | elapsed: 781.8min\n",
      "[Parallel(n_jobs=-1)]: Done 105 tasks      | elapsed: 783.2min\n"
     ]
    },
    {
     "name": "stderr",
     "output_type": "stream",
     "text": [
      "R[write to console]: There were 50 or more warnings (use warnings() to see the first 50)\n",
      "R[write to console]: \n",
      "\n"
     ]
    },
    {
     "name": "stdout",
     "output_type": "stream",
     "text": [
      "[Parallel(n_jobs=-1)]: Done 106 tasks      | elapsed: 784.6min\n",
      "[Parallel(n_jobs=-1)]: Done 107 tasks      | elapsed: 796.2min\n"
     ]
    },
    {
     "name": "stderr",
     "output_type": "stream",
     "text": [
      "Unable to determine R library path: Command '('/Library/Frameworks/R.framework/Resources/bin/Rscript', '-e', 'cat(Sys.getenv(\"LD_LIBRARY_PATH\"))')' returned non-zero exit status 2.\n"
     ]
    },
    {
     "name": "stdout",
     "output_type": "stream",
     "text": [
      "[Parallel(n_jobs=-1)]: Done 108 tasks      | elapsed: 796.7min\n",
      "[Parallel(n_jobs=-1)]: Done 109 tasks      | elapsed: 807.0min\n",
      "[Parallel(n_jobs=-1)]: Done 111 out of 140 | elapsed: 811.7min remaining: 212.1min\n",
      "[Parallel(n_jobs=-1)]: Done 113 out of 140 | elapsed: 813.6min remaining: 194.4min\n"
     ]
    },
    {
     "name": "stderr",
     "output_type": "stream",
     "text": [
      "Unable to determine R library path: Command '('/Library/Frameworks/R.framework/Resources/bin/Rscript', '-e', 'cat(Sys.getenv(\"LD_LIBRARY_PATH\"))')' returned non-zero exit status 2.\n"
     ]
    },
    {
     "name": "stdout",
     "output_type": "stream",
     "text": [
      "[Parallel(n_jobs=-1)]: Done 115 out of 140 | elapsed: 835.8min remaining: 181.7min\n",
      "[Parallel(n_jobs=-1)]: Done 117 out of 140 | elapsed: 844.4min remaining: 166.0min\n",
      "[Parallel(n_jobs=-1)]: Done 119 out of 140 | elapsed: 856.7min remaining: 151.2min\n",
      "[Parallel(n_jobs=-1)]: Done 121 out of 140 | elapsed: 867.2min remaining: 136.2min\n"
     ]
    },
    {
     "name": "stderr",
     "output_type": "stream",
     "text": [
      "Unable to determine R library path: Command '('/Library/Frameworks/R.framework/Resources/bin/Rscript', '-e', 'cat(Sys.getenv(\"LD_LIBRARY_PATH\"))')' returned non-zero exit status 2.\n"
     ]
    },
    {
     "name": "stdout",
     "output_type": "stream",
     "text": [
      "[Parallel(n_jobs=-1)]: Done 123 out of 140 | elapsed: 877.2min remaining: 121.2min\n"
     ]
    },
    {
     "name": "stderr",
     "output_type": "stream",
     "text": [
      "R[write to console]: There were 50 or more warnings (use warnings() to see the first 50)\n",
      "R[write to console]: \n",
      "\n"
     ]
    },
    {
     "name": "stdout",
     "output_type": "stream",
     "text": [
      "[Parallel(n_jobs=-1)]: Done 125 out of 140 | elapsed: 879.9min remaining: 105.6min\n",
      "[Parallel(n_jobs=-1)]: Done 127 out of 140 | elapsed: 880.4min remaining: 90.1min\n",
      "[Parallel(n_jobs=-1)]: Done 129 out of 140 | elapsed: 901.6min remaining: 76.9min\n",
      "[Parallel(n_jobs=-1)]: Done 131 out of 140 | elapsed: 923.5min remaining: 63.4min\n"
     ]
    },
    {
     "name": "stderr",
     "output_type": "stream",
     "text": [
      "R[write to console]: There were 50 or more warnings (use warnings() to see the first 50)\n",
      "R[write to console]: \n",
      "\n",
      "R[write to console]: There were 50 or more warnings (use warnings() to see the first 50)\n",
      "R[write to console]: \n",
      "\n",
      "R[write to console]: There were 50 or more warnings (use warnings() to see the first 50)\n",
      "R[write to console]: \n",
      "\n"
     ]
    },
    {
     "name": "stdout",
     "output_type": "stream",
     "text": [
      "[Parallel(n_jobs=-1)]: Done 133 out of 140 | elapsed: 959.2min remaining: 50.5min\n"
     ]
    },
    {
     "name": "stderr",
     "output_type": "stream",
     "text": [
      "R[write to console]: There were 50 or more warnings (use warnings() to see the first 50)\n",
      "R[write to console]: \n",
      "\n"
     ]
    },
    {
     "name": "stdout",
     "output_type": "stream",
     "text": [
      "[Parallel(n_jobs=-1)]: Done 135 out of 140 | elapsed: 1029.5min remaining: 38.1min\n"
     ]
    },
    {
     "name": "stderr",
     "output_type": "stream",
     "text": [
      "R[write to console]: There were 50 or more warnings (use warnings() to see the first 50)\n",
      "R[write to console]: \n",
      "\n",
      "R[write to console]: There were 50 or more warnings (use warnings() to see the first 50)\n",
      "R[write to console]: \n",
      "\n"
     ]
    },
    {
     "name": "stdout",
     "output_type": "stream",
     "text": [
      "[Parallel(n_jobs=-1)]: Done 137 out of 140 | elapsed: 1167.9min remaining: 25.6min\n"
     ]
    },
    {
     "name": "stderr",
     "output_type": "stream",
     "text": [
      "R[write to console]: There were 50 or more warnings (use warnings() to see the first 50)\n",
      "R[write to console]: \n",
      "\n",
      "R[write to console]: There were 50 or more warnings (use warnings() to see the first 50)\n",
      "R[write to console]: \n",
      "\n"
     ]
    },
    {
     "name": "stdout",
     "output_type": "stream",
     "text": [
      "[Parallel(n_jobs=-1)]: Done 140 out of 140 | elapsed: 1204.4min finished\n"
     ]
    }
   ],
   "source": [
    "outputs = Parallel(n_jobs=-1, verbose=100)(\n",
    "    [delayed(estimate_power)(sim, test) for sim in SIMULATIONS.keys() for test in TESTS]\n",
    ")"
   ]
  },
  {
   "cell_type": "markdown",
   "metadata": {},
   "source": [
    "The following code loops over each saved independence test file and generates absolute power curves for each test and for each simulation modality."
   ]
  },
  {
   "cell_type": "code",
   "execution_count": 24,
   "metadata": {},
   "outputs": [],
   "source": [
    "def plot_power():\n",
    "    fig, ax = plt.subplots(nrows=4, ncols=5, figsize=(25,20))\n",
    "    \n",
    "    plt.suptitle(\"Multivariate Three-Sample Testing Increasing Dimension\", y=0.93, va='baseline')\n",
    "    \n",
    "    for i, row in enumerate(ax):\n",
    "        for j, col in enumerate(row):\n",
    "            count = 5*i + j\n",
    "            sim = list(SIMULATIONS.keys())[count]\n",
    "            \n",
    "            for test in TESTS:\n",
    "                test_name = test.__name__\n",
    "                power = np.genfromtxt('../ksample/ksamp_vs_dimension/{}_{}.csv'.format(sim, test_name), delimiter=',')\n",
    "#                 manova_power = np.genfromtxt('../ksample/ksamp_vs_dimension/{}_Manova.csv'.format(sim), delimiter=',')\n",
    "                \n",
    "                if test_name == \"MGC\":\n",
    "                    col.plot(DIMENSIONS[1:], power[1:], color=\"#e41a1c\", label=test_name, lw=4)\n",
    "                elif test_name == \"KMERF\":\n",
    "                    col.plot(DIMENSIONS[1:], power[1:], color=\"#e41a1c\", label=test_name, lw=4, linestyle='dashed')\n",
    "                elif test_name == \"Manova\":\n",
    "                    col.plot(DIMENSIONS[1:], power[1:], color=\"#000000\", label=test_name, lw=4)\n",
    "                else:\n",
    "                    col.plot(DIMENSIONS[1:], power[1:], label=test_name, lw=2)\n",
    "                col.set_xticks([])\n",
    "                if i == 3:\n",
    "                    col.set_xticks([DIMENSIONS[1], DIMENSIONS[-1]])\n",
    "                col.set_ylim(-0.05, 1.05)\n",
    "                col.set_yticks([])\n",
    "                if j == 0:\n",
    "                    col.set_yticks([0, 1])\n",
    "                col.set_title(SIMULATIONS[sim])\n",
    "    \n",
    "    fig.text(0.5, 0.08, 'Dimension', ha='center')\n",
    "    fig.text(0.08, 0.5, 'Statistical Power Relative to Manova', va='center', rotation='vertical')\n",
    "    leg = plt.legend(bbox_to_anchor=(0.5, 0.07), bbox_transform=plt.gcf().transFigure,\n",
    "                     ncol=len(TESTS), loc='upper center')\n",
    "    leg.get_frame().set_linewidth(0.0)\n",
    "    for legobj in leg.legendHandles:\n",
    "        legobj.set_linewidth(5.0)\n",
    "    plt.subplots_adjust(hspace=.50)\n",
    "    plt.savefig('../ksample/figs/ksamp_power_dimension.pdf', transparent=True, bbox_inches='tight')"
   ]
  },
  {
   "cell_type": "code",
   "execution_count": 25,
   "metadata": {},
   "outputs": [],
   "source": [
    "plot_power()"
   ]
  },
  {
   "cell_type": "code",
   "execution_count": null,
   "metadata": {},
   "outputs": [],
   "source": []
  }
 ],
 "metadata": {
  "kernelspec": {
   "display_name": "Python 3",
   "language": "python",
   "name": "python3"
  },
  "language_info": {
   "codemirror_mode": {
    "name": "ipython",
    "version": 3
   },
   "file_extension": ".py",
   "mimetype": "text/x-python",
   "name": "python",
   "nbconvert_exporter": "python",
   "pygments_lexer": "ipython3",
   "version": "3.9.13"
  }
 },
 "nbformat": 4,
 "nbformat_minor": 2
}

{
 "cells": [
  {
   "cell_type": "code",
   "execution_count": null,
   "metadata": {},
   "outputs": [],
   "source": [
    "import numpy as np\n",
    "import sys, os\n",
    "import matplotlib.pyplot as plt\n",
    "sys.path.append(os.path.realpath('..'))\n",
    "import pandas as pd\n",
    "\n",
    "from hyppo.independence import Dcorr, HHG\n",
    "from hyppo.ksample import KSample\n",
    "from hyppo.sims import spiral, rot_2samp"
   ]
  },
  {
   "cell_type": "code",
   "execution_count": null,
   "metadata": {},
   "outputs": [],
   "source": [
    "N = 100\n",
    "\n",
    "tests = [\n",
    "    HHG,\n",
    "    Dcorr,\n",
    "    KSample,\n",
    "]"
   ]
  },
  {
   "cell_type": "code",
   "execution_count": null,
   "metadata": {},
   "outputs": [],
   "source": [
    "for i in range(N):\n",
    "    x, y = spiral(500, 1, noise=True)\n",
    "    sim = np.hstack([x, y])\n",
    "    np.savetxt('../benchmarks/same_stat/indep/{}.csv'.format(i+1), sim, delimiter=',')\n",
    "    sim1, sim2 = rot_2samp(spiral, 500, 1, noise=True)\n",
    "    np.savetxt('../benchmarks/same_stat/ksample/sim1_{}.csv'.format(i+1), sim, delimiter=',')\n",
    "    np.savetxt('../benchmarks/same_stat/ksample/sim2_{}.csv'.format(i+1), sim, delimiter=',')"
   ]
  },
  {
   "cell_type": "code",
   "execution_count": null,
   "metadata": {},
   "outputs": [],
   "source": [
    "for test in tests:\n",
    "    stats = []\n",
    "    for i in range(N):\n",
    "        if test.__name__ == \"KSample\":\n",
    "            sim1 = np.genfromtxt('../benchmarks/same_stat/ksample/sim1_{}.csv'.format(i+1), delimiter=',')\n",
    "            sim2 = np.genfromtxt('../benchmarks/same_stat/ksample/sim2_{}.csv'.format(i+1), delimiter=',')\n",
    "            stat = KSample(indep_test=\"Hsic\", bias=True)._statistic(sim1, sim2)\n",
    "        else:\n",
    "            sim = np.genfromtxt('../benchmarks/same_stat/indep/{}.csv'.format(i+1), delimiter=',')\n",
    "            x, y = np.hsplit(sim, 2)\n",
    "            stat = test()._statistic(x, y)\n",
    "        stats.append(stat)\n",
    "    np.savetxt('../benchmarks/same_stat/{}.csv'.format(test.__name__), stats, delimiter=',')"
   ]
  },
  {
   "cell_type": "code",
   "execution_count": null,
   "metadata": {},
   "outputs": [],
   "source": [
    "import seaborn as sns\n",
    "sns.set(color_codes=True, style='white', context='talk', font_scale=1.5)\n",
    "PALETTE = sns.color_palette(\"Set1\")\n",
    "sns.set_palette(PALETTE[1:])"
   ]
  },
  {
   "cell_type": "code",
   "execution_count": null,
   "metadata": {},
   "outputs": [],
   "source": [
    "import matplotlib.ticker as mticker\n",
    "\n",
    "\n",
    "FONTSIZE = 20\n",
    "\n",
    "\n",
    "def plot_stats():\n",
    "    fig = plt.figure(figsize=(5,7))\n",
    "    ax = plt.subplot(111)\n",
    "    \n",
    "    test_names = [\n",
    "        \"Dcorr\",\n",
    "        \"MMD\",\n",
    "        \"HHG\"\n",
    "    ]\n",
    "    \n",
    "    data = np.zeros((N, len(test_names)))\n",
    "    for i in range(len(test_names)):\n",
    "        if test_names[i] == \"MMD\":\n",
    "            mgc_stat = np.genfromtxt('../benchmarks/same_stat/KSample.csv', delimiter=',')\n",
    "            r_stat = np.genfromtxt('../benchmarks/same_stat/RMMD.csv', delimiter=',')\n",
    "            mgc_stat = mgc_stat / (2 * 0.05) * (500 * 2) # exact equivalence stat correction\n",
    "        else:\n",
    "            mgc_stat = np.genfromtxt('../benchmarks/same_stat/{}.csv'.format(test_names[i]), delimiter=',')\n",
    "            r_stat = np.genfromtxt('../benchmarks/same_stat/R{}.csv'.format(test_names[i]), delimiter=',')\n",
    "            if test_names[i] == \"HHG\": # Fix for large HHG stats so difference is comparable\n",
    "                mgc_stat *= 1e-8\n",
    "                r_stat *= 1e-8\n",
    "        data[:, i] = np.abs(mgc_stat) - np.abs(r_stat)\n",
    "    \n",
    "    data = pd.DataFrame(data=data, columns=test_names)\n",
    "    #sns.violinplot(data=data, inner=None)\n",
    "    sns.stripplot(data=data, edgecolor=\"gray\", size=5, palette=[\"#377eb8\", \"#ff7f00\", \"#4daf4a\"], jitter=1)\n",
    "    ax.axhline(y = 0, color='red', linewidth=1)\n",
    "    \n",
    "    ax.spines['top'].set_visible(False)\n",
    "    ax.spines['right'].set_visible(False)\n",
    "    ax.spines['bottom'].set_visible(False)\n",
    "    #ax.spines['left'].set_visible(False)\n",
    "    #ax.text(-1.1, 0, \"Test Statistic Difference\", va='center', rotation='vertical')\n",
    "    ax.set_ylabel(\"Test Statistic\\nDifference\")\n",
    "    ax.set_ylim(-5e-4, 5e-4)\n",
    "    ax.set_yticks([-5e-4, 0, 5e-4])\n",
    "    f = mticker.ScalarFormatter(useOffset=False)\n",
    "    g = lambda x, pos : \"{}\".format(f._formatSciNotation('%1.1e' % x))\n",
    "    ax.yaxis.set_major_formatter(mticker.FuncFormatter(g))\n",
    "    \n",
    "    plt.savefig('../benchmarks/figs/same_stat.pdf', transparent=True, bbox_inches='tight')"
   ]
  },
  {
   "cell_type": "code",
   "execution_count": null,
   "metadata": {},
   "outputs": [],
   "source": [
    "plot_stats()"
   ]
  }
 ],
 "metadata": {
  "kernelspec": {
   "display_name": "Python 3",
   "language": "python",
   "name": "python3"
  },
  "language_info": {
   "codemirror_mode": {
    "name": "ipython",
    "version": 3
   },
   "file_extension": ".py",
   "mimetype": "text/x-python",
   "name": "python",
   "nbconvert_exporter": "python",
   "pygments_lexer": "ipython3",
   "version": "3.8.5"
  }
 },
 "nbformat": 4,
 "nbformat_minor": 2
}

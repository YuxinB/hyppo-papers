{
 "cells": [
  {
   "cell_type": "code",
   "execution_count": null,
   "metadata": {},
   "outputs": [],
   "source": [
    "import numpy as np\n",
    "import matplotlib.pyplot as plt\n",
    "import seaborn as sns\n",
    "import timeit\n",
    "import sys, os\n",
    "sys.path.append(os.path.realpath('..'))\n",
    "from scipy.interpolate import interp1d\n",
    "\n",
    "from hyppo.independence import *\n",
    "from hyppo.ksample import KSample\n",
    "from hyppo.sims import linear"
   ]
  },
  {
   "cell_type": "code",
   "execution_count": null,
   "metadata": {},
   "outputs": [],
   "source": [
    "sns.set(color_codes=True, style='white', context='talk', font_scale=1.5)\n",
    "PALETTE = sns.color_palette(\"Set1\")\n",
    "sns.set_palette(PALETTE[1:5] + PALETTE[6:], n_colors=9)"
   ]
  },
  {
   "cell_type": "code",
   "execution_count": null,
   "metadata": {},
   "outputs": [],
   "source": [
    "N = [\n",
    "    50,\n",
    "    100,\n",
    "    200,\n",
    "    500,\n",
    "    1000,\n",
    "    2000,\n",
    "    5000,\n",
    "    10000\n",
    "]\n",
    "\n",
    "TESTS = {\n",
    "    \"indep\" : [Dcorr, MGC, HHG],\n",
    "    \"ksample\" : [Hsic],\n",
    "    \"fast\" : [Dcorr]\n",
    "}"
   ]
  },
  {
   "cell_type": "code",
   "execution_count": null,
   "metadata": {},
   "outputs": [],
   "source": [
    "# Function runs wall time estimates using timeit (for python) and \n",
    "def estimate_wall_times(tests, **kwargs):\n",
    "    for test in tests:\n",
    "        times = []\n",
    "        for n in N:\n",
    "            x, y = linear(n, 1, noise=True)\n",
    "            if test_type == \"ksample\":\n",
    "                hyp_test = KSample(test.__name__)\n",
    "            else:\n",
    "                hyp_test = test()\n",
    "            time = %timeit -n 1 -r 3 -q -o hyp_test.test(x, y, workers=-1, **kwargs)\n",
    "            times.append(np.min(time.timings))\n",
    "        np.savetxt('../benchmarks/perf/{}_{}.csv'.format(test_type, test.__name__), times, delimiter=',')\n",
    "    return times"
   ]
  },
  {
   "cell_type": "code",
   "execution_count": null,
   "metadata": {},
   "outputs": [],
   "source": [
    "kwargs = {}\n",
    "for test_type in TESTS.keys():\n",
    "    if test_type == \"fast\":\n",
    "        kwargs[\"auto\"] = True\n",
    "    estimate_wall_times(TESTS[test_type], **kwargs)"
   ]
  },
  {
   "cell_type": "code",
   "execution_count": null,
   "metadata": {},
   "outputs": [],
   "source": [
    "FONTSIZE = 30\n",
    "\n",
    "TEST_METADATA = {\n",
    "    \"MGC\" : {\n",
    "        \"test_name\" : \"MGC (hyppo)\",\n",
    "        \"color\" : \"#e41a1c\"\n",
    "    },\n",
    "    \"HHG\" : {\n",
    "        \"test_name\" : \"HHG (hyppo)\",\n",
    "        \"color\" : \"#4daf4a\"\n",
    "    },\n",
    "    \"Dcorr\" : {\n",
    "        \"test_name\" : \"Dcorr (hyppo)\",\n",
    "        \"color\" : \"#377eb8\"\n",
    "    },\n",
    "    \"ksample_Hsic\" : {\n",
    "        \"test_name\" : \"MMD (hyppo)\",\n",
    "        \"color\" : \"#ff7f00\"\n",
    "    },\n",
    "    \"fast_Dcorr\" : {\n",
    "        \"test_name\" : \"Fast Dcorr (hyppo)\",\n",
    "        \"color\" : \"#984ea3\"\n",
    "    },\n",
    "    \"HHG_hhg\" : {\n",
    "        \"test_name\" : \"HHG (HHG)\",\n",
    "        \"color\" : \"#4daf4a\"\n",
    "    },\n",
    "    \"Dcorr_energy\" : {\n",
    "        \"test_name\" : \"Dcorr (energy)\",\n",
    "        \"color\" : \"#377eb8\"\n",
    "    },\n",
    "    \"Dcorr_kernlab\" : {\n",
    "        \"test_name\" : \"MMD (kernlab)\",\n",
    "        \"color\" : \"#ff7f00\"\n",
    "    },\n",
    "}\n",
    "\n",
    "\n",
    "def plot_wall_times():\n",
    "    fig = plt.figure(figsize=(10,7))\n",
    "    ax = plt.subplot(111)\n",
    "    \n",
    "    i = 0\n",
    "    kwargs = {}\n",
    "    for file_name, metadata in TEST_METADATA.items():\n",
    "        test_times = np.genfromtxt('../hyppo/perf/{}.csv'.format(file_name), delimiter=',')\n",
    "        \n",
    "        if file_name in [\"HHG_hhg\", \"Dcorr_energy\", \"Dcorr_kernlab\"]:\n",
    "            kwargs = {\"linestyle\" : \"dashed\"}\n",
    "        ax.plot(N, test_times, color=metadata[\"color\"], label=metadata[\"test_name\"], lw=5, **kwargs)\n",
    "        i += 1\n",
    "    \n",
    "    ax.spines['top'].set_visible(False)\n",
    "    ax.spines['right'].set_visible(False)\n",
    "    ax.set_xlabel('Number of Samples')\n",
    "    ax.set_ylabel('Execution Time\\n(Seconds)')\n",
    "    ax.set_xscale('log')\n",
    "    ax.set_yscale('log')\n",
    "    ax.set_xticks([1e2, 1e3, 1e4])\n",
    "    ax.set_yticks([1e-4, 1e-2, 1e0, 1e2, 1e4])\n",
    "    \n",
    "    leg = plt.legend(bbox_to_anchor=(0.5, -0.05), bbox_transform=plt.gcf().transFigure,\n",
    "                     ncol=2, loc='upper center')\n",
    "    leg.get_frame().set_linewidth(0.0)\n",
    "    for legobj in leg.legendHandles:\n",
    "        legobj.set_linewidth(5.0)\n",
    "    plt.savefig('../hyppo/figs/wall_times.pdf', transparent=True, bbox_inches='tight')"
   ]
  },
  {
   "cell_type": "code",
   "execution_count": null,
   "metadata": {},
   "outputs": [],
   "source": [
    "plot_wall_times()"
   ]
  }
 ],
 "metadata": {
  "kernelspec": {
   "display_name": "Python 3",
   "language": "python",
   "name": "python3"
  },
  "language_info": {
   "codemirror_mode": {
    "name": "ipython",
    "version": 3
   },
   "file_extension": ".py",
   "mimetype": "text/x-python",
   "name": "python",
   "nbconvert_exporter": "python",
   "pygments_lexer": "ipython3",
   "version": "3.8.5"
  }
 },
 "nbformat": 4,
 "nbformat_minor": 4
}

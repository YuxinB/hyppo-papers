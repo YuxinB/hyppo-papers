{
 "cells": [
  {
   "cell_type": "markdown",
   "metadata": {},
   "source": [
    "# Independence Tests Power over Increasing Dimension"
   ]
  },
  {
   "cell_type": "code",
   "execution_count": 1,
   "metadata": {
    "execution": {
     "iopub.execute_input": "2023-05-16T12:15:13.365762Z",
     "iopub.status.busy": "2023-05-16T12:15:13.365586Z",
     "iopub.status.idle": "2023-05-16T12:15:14.419999Z",
     "shell.execute_reply": "2023-05-16T12:15:14.418903Z"
    }
   },
   "outputs": [],
   "source": [
    "import sys, os\n",
    "\n",
    "from joblib import Parallel, delayed\n",
    "import numpy as np\n",
    "import matplotlib.pyplot as plt\n",
    "import seaborn as sns\n",
    "\n",
    "from hyppo.independence import MGC, Dcorr, Hsic, HHG, CCA, RV\n",
    "from power import power_indep\n",
    "sys.path.append(os.path.realpath('..'))"
   ]
  },
  {
   "cell_type": "code",
   "execution_count": 7,
   "metadata": {
    "execution": {
     "iopub.execute_input": "2023-05-16T12:15:14.423375Z",
     "iopub.status.busy": "2023-05-16T12:15:14.423032Z",
     "iopub.status.idle": "2023-05-16T12:15:14.431390Z",
     "shell.execute_reply": "2023-05-16T12:15:14.430655Z"
    }
   },
   "outputs": [],
   "source": [
    "from sklearn.ensemble import RandomForestRegressor, RandomForestClassifier\n",
    "from sklearn.metrics import pairwise_distances\n",
    "\n",
    "from scipy.stats.distributions import chi2\n",
    "from hyppo.independence.base import IndependenceTest\n",
    "from hyppo.independence.dcorr import _dcorr\n",
    "from hyppo.independence._utils import sim_matrix\n",
    "\n",
    "\n",
    "FOREST_TYPES = {\n",
    "    \"classifier\" : RandomForestClassifier,\n",
    "    \"regressor\" : RandomForestRegressor\n",
    "}\n",
    "\n",
    "\n",
    "class KMERF(IndependenceTest):\n",
    "    r\"\"\"\n",
    "    Class for calculating the random forest based Dcorr test statistic and p-value.\n",
    "    \"\"\"\n",
    "\n",
    "    def __init__(self, forest=\"regressor\", ntrees=500, **kwargs):\n",
    "        if forest in FOREST_TYPES.keys():\n",
    "            self.clf = FOREST_TYPES[forest](n_estimators=ntrees, **kwargs)\n",
    "        else:\n",
    "            raise ValueError(\"forest must be one of the following \")\n",
    "        IndependenceTest.__init__(self)\n",
    "\n",
    "    def statistic(self, x, y):\n",
    "        r\"\"\"\n",
    "        Helper function that calculates the random forest based Dcorr test statistic.\n",
    "        \"\"\"\n",
    "        rf_y = y\n",
    "        if y.shape[1] == 1:\n",
    "            rf_y = y.ravel()\n",
    "        self.clf.fit(x, rf_y)\n",
    "        distx = np.sqrt(1 - sim_matrix(self.clf, x))\n",
    "        if x.shape[1] == y.shape[1]:\n",
    "            disty = np.sqrt(1 - sim_matrix(self.clf, y))\n",
    "        else:\n",
    "            disty = pairwise_distances(\n",
    "                y, metric=\"euclidean\"\n",
    "            )\n",
    "        stat = _dcorr(distx, disty, bias=False, is_fast=False)\n",
    "\n",
    "        return stat\n",
    "    \n",
    "    def test(self, x, y):\n",
    "        n = x.shape[0]\n",
    "        stat = self.statistic(x, y)\n",
    "        statx = self.statistic(x, x)\n",
    "        staty = self.statistic(y, y)\n",
    "        pvalue = chi2.sf(stat / np.sqrt(statx * staty) * n + 1, 1)\n",
    "        return stat, pvalue"
   ]
  },
  {
   "cell_type": "code",
   "execution_count": 8,
   "metadata": {
    "execution": {
     "iopub.execute_input": "2023-05-16T12:15:14.433715Z",
     "iopub.status.busy": "2023-05-16T12:15:14.433533Z",
     "iopub.status.idle": "2023-05-16T12:15:14.440339Z",
     "shell.execute_reply": "2023-05-16T12:15:14.439611Z"
    }
   },
   "outputs": [],
   "source": [
    "sns.set(color_codes=True, style='white', context='talk', font_scale=1.5)\n",
    "PALETTE = sns.color_palette(\"Set1\")\n",
    "sns.set_palette(PALETTE[1:5] + PALETTE[6:], n_colors=9)\n",
    "\n",
    "REPS = 10000\n",
    "\n",
    "SIMULATIONS = {\n",
    "    \"linear\": (\"Linear\", 1000),\n",
    "    \"exponential\": (\"Exponential\", 1000),\n",
    "    \"cubic\": (\"Cubic\", 1000),\n",
    "    \"joint_normal\": (\"Joint Normal\", 10),\n",
    "    \"step\": (\"Step\", 20),\n",
    "    \"quadratic\": (\"Quadratic\", 20),\n",
    "    \"w_shaped\": (\"W-Shaped\", 20),\n",
    "    \"spiral\": (\"Spiral\", 20),\n",
    "    \"uncorrelated_bernoulli\": (\"Bernoulli\", 100),\n",
    "    \"logarithmic\": (\"Logarithmic\", 100),\n",
    "    \"fourth_root\": (\"Fourth Root\", 20),\n",
    "    \"sin_four_pi\": (\"Sine 4\\u03C0\", 10),\n",
    "    \"sin_sixteen_pi\": (\"Sine 16\\u03C0\", 10),\n",
    "    \"square\": (\"Square\", 40),\n",
    "    \"two_parabolas\": (\"Two Parabolas\", 20),\n",
    "    \"circle\": (\"Circle\", 20),\n",
    "    \"ellipse\": (\"Ellipse\", 20),\n",
    "    \"diamond\": (\"Diamond\", 40),\n",
    "    \"multiplicative_noise\": (\"Multiplicative\", 10),\n",
    "    \"multimodal_independence\": (\"Independence\", 100)\n",
    "}\n",
    "\n",
    "TESTS = [\n",
    "    KMERF,\n",
    "#     MGC,\n",
    "#     Dcorr,\n",
    "#     Hsic,\n",
    "#     HHG,\n",
    "#     CCA,\n",
    "#     RV,\n",
    "]"
   ]
  },
  {
   "cell_type": "code",
   "execution_count": 9,
   "metadata": {
    "execution": {
     "iopub.execute_input": "2023-05-16T12:15:14.442577Z",
     "iopub.status.busy": "2023-05-16T12:15:14.442396Z",
     "iopub.status.idle": "2023-05-16T12:15:14.446988Z",
     "shell.execute_reply": "2023-05-16T12:15:14.446239Z"
    }
   },
   "outputs": [],
   "source": [
    "def find_dim_range(dim):\n",
    "    lim = 10 if dim < 20 else 20\n",
    "    dim_range = list(range(int(dim/lim), dim+1, int(dim/lim)))\n",
    "    if dim_range[0] == 1:\n",
    "        dim_range = dim_range[2:]\n",
    "    elif dim_range[0] == 2:\n",
    "        dim_range[0] = 3\n",
    "    elif dim_range[0] > 3:\n",
    "        dim_range.insert(0, 3)\n",
    "    return dim_range"
   ]
  },
  {
   "cell_type": "code",
   "execution_count": 10,
   "metadata": {
    "execution": {
     "iopub.execute_input": "2023-05-16T12:15:14.449193Z",
     "iopub.status.busy": "2023-05-16T12:15:14.449000Z",
     "iopub.status.idle": "2023-05-16T12:15:14.453260Z",
     "shell.execute_reply": "2023-05-16T12:15:14.452452Z"
    }
   },
   "outputs": [],
   "source": [
    "def estimate_power(sim, test):\n",
    "    dim_range = find_dim_range(SIMULATIONS[sim][1])\n",
    "    est_power = np.array([\n",
    "        power_indep(test, sim=sim, n=100, p=i, noise=False, reps=REPS)\n",
    "        for i in dim_range\n",
    "    ])\n",
    "    np.savetxt(\n",
    "        \"../kmerf/vs_dimension/{}_{}.csv\".format(sim, test.__name__),\n",
    "        est_power,\n",
    "        delimiter=\",\",\n",
    "    )\n",
    "\n",
    "    return est_power"
   ]
  },
  {
   "cell_type": "code",
   "execution_count": 11,
   "metadata": {
    "execution": {
     "iopub.execute_input": "2023-05-16T12:15:14.455613Z",
     "iopub.status.busy": "2023-05-16T12:15:14.455420Z",
     "iopub.status.idle": "2023-05-16T20:18:25.689451Z",
     "shell.execute_reply": "2023-05-16T20:18:25.687862Z"
    },
    "scrolled": false
   },
   "outputs": [
    {
     "name": "stdout",
     "output_type": "stream",
     "text": [
      "[Parallel(n_jobs=-1)]: Using backend LokyBackend with 16 concurrent workers.\n",
      "[Parallel(n_jobs=-1)]: Done   1 tasks      | elapsed:  1.2min\n",
      "[Parallel(n_jobs=-1)]: Done   2 out of  20 | elapsed:  1.2min remaining: 10.8min\n",
      "[Parallel(n_jobs=-1)]: Done   3 out of  20 | elapsed:  1.2min remaining:  6.8min\n",
      "[Parallel(n_jobs=-1)]: Done   4 out of  20 | elapsed:  1.2min remaining:  4.8min\n",
      "[Parallel(n_jobs=-1)]: Done   5 out of  20 | elapsed:  1.2min remaining:  3.6min\n",
      "[Parallel(n_jobs=-1)]: Done   6 out of  20 | elapsed:  1.2min remaining:  2.8min\n",
      "[Parallel(n_jobs=-1)]: Done   7 out of  20 | elapsed:  1.2min remaining:  2.2min\n",
      "[Parallel(n_jobs=-1)]: Done   8 out of  20 | elapsed:  1.2min remaining:  1.8min\n",
      "[Parallel(n_jobs=-1)]: Done   9 out of  20 | elapsed:  1.2min remaining:  1.5min\n",
      "[Parallel(n_jobs=-1)]: Done  10 out of  20 | elapsed:  1.2min remaining:  1.2min\n",
      "[Parallel(n_jobs=-1)]: Done  11 out of  20 | elapsed:  1.2min remaining:   59.1s\n",
      "[Parallel(n_jobs=-1)]: Done  12 out of  20 | elapsed:  1.2min remaining:   48.2s\n",
      "[Parallel(n_jobs=-1)]: Done  13 out of  20 | elapsed:  1.2min remaining:   38.9s\n",
      "[Parallel(n_jobs=-1)]: Done  14 out of  20 | elapsed:  1.2min remaining:   31.0s\n",
      "[Parallel(n_jobs=-1)]: Done  15 out of  20 | elapsed:  1.2min remaining:   24.1s\n",
      "[Parallel(n_jobs=-1)]: Done  16 out of  20 | elapsed:  1.2min remaining:   18.1s\n",
      "[Parallel(n_jobs=-1)]: Done  17 out of  20 | elapsed:  1.2min remaining:   12.8s\n",
      "[Parallel(n_jobs=-1)]: Done  18 out of  20 | elapsed:  1.2min remaining:    8.0s\n",
      "[Parallel(n_jobs=-1)]: Done  20 out of  20 | elapsed:  1.2min remaining:    0.0s\n"
     ]
    },
    {
     "ename": "KeyboardInterrupt",
     "evalue": "",
     "output_type": "error",
     "traceback": [
      "\u001b[0;31m---------------------------------------------------------------------------\u001b[0m",
      "\u001b[0;31mKeyboardInterrupt\u001b[0m                         Traceback (most recent call last)",
      "Cell \u001b[0;32mIn[11], line 3\u001b[0m\n\u001b[1;32m      1\u001b[0m \u001b[38;5;66;03m# This code takes a very long time to run. Highly recommend using a\u001b[39;00m\n\u001b[1;32m      2\u001b[0m \u001b[38;5;66;03m# virtual machine to reproduce\u001b[39;00m\n\u001b[0;32m----> 3\u001b[0m outputs \u001b[38;5;241m=\u001b[39m \u001b[43mParallel\u001b[49m\u001b[43m(\u001b[49m\u001b[43mn_jobs\u001b[49m\u001b[38;5;241;43m=\u001b[39;49m\u001b[38;5;241;43m-\u001b[39;49m\u001b[38;5;241;43m1\u001b[39;49m\u001b[43m,\u001b[49m\u001b[43m \u001b[49m\u001b[43mverbose\u001b[49m\u001b[38;5;241;43m=\u001b[39;49m\u001b[38;5;241;43m100\u001b[39;49m\u001b[43m)\u001b[49m\u001b[43m(\u001b[49m\n\u001b[1;32m      4\u001b[0m \u001b[43m    \u001b[49m\u001b[43m[\u001b[49m\u001b[43mdelayed\u001b[49m\u001b[43m(\u001b[49m\u001b[43mestimate_power\u001b[49m\u001b[43m)\u001b[49m\u001b[43m(\u001b[49m\u001b[43msim\u001b[49m\u001b[43m,\u001b[49m\u001b[43m \u001b[49m\u001b[43mtest\u001b[49m\u001b[43m)\u001b[49m\u001b[43m \u001b[49m\u001b[38;5;28;43;01mfor\u001b[39;49;00m\u001b[43m \u001b[49m\u001b[43msim\u001b[49m\u001b[43m \u001b[49m\u001b[38;5;129;43;01min\u001b[39;49;00m\u001b[43m \u001b[49m\u001b[43mSIMULATIONS\u001b[49m\u001b[38;5;241;43m.\u001b[39;49m\u001b[43mkeys\u001b[49m\u001b[43m(\u001b[49m\u001b[43m)\u001b[49m\u001b[43m \u001b[49m\u001b[38;5;28;43;01mfor\u001b[39;49;00m\u001b[43m \u001b[49m\u001b[43mtest\u001b[49m\u001b[43m \u001b[49m\u001b[38;5;129;43;01min\u001b[39;49;00m\u001b[43m \u001b[49m\u001b[43mTESTS\u001b[49m\u001b[43m]\u001b[49m\n\u001b[1;32m      5\u001b[0m \u001b[43m)\u001b[49m\n",
      "File \u001b[0;32m~/miniconda3/envs/hyppo-dev/lib/python3.11/site-packages/joblib/parallel.py:1098\u001b[0m, in \u001b[0;36mParallel.__call__\u001b[0;34m(self, iterable)\u001b[0m\n\u001b[1;32m   1095\u001b[0m     \u001b[38;5;28mself\u001b[39m\u001b[38;5;241m.\u001b[39m_iterating \u001b[38;5;241m=\u001b[39m \u001b[38;5;28;01mFalse\u001b[39;00m\n\u001b[1;32m   1097\u001b[0m \u001b[38;5;28;01mwith\u001b[39;00m \u001b[38;5;28mself\u001b[39m\u001b[38;5;241m.\u001b[39m_backend\u001b[38;5;241m.\u001b[39mretrieval_context():\n\u001b[0;32m-> 1098\u001b[0m     \u001b[38;5;28;43mself\u001b[39;49m\u001b[38;5;241;43m.\u001b[39;49m\u001b[43mretrieve\u001b[49m\u001b[43m(\u001b[49m\u001b[43m)\u001b[49m\n\u001b[1;32m   1099\u001b[0m \u001b[38;5;66;03m# Make sure that we get a last message telling us we are done\u001b[39;00m\n\u001b[1;32m   1100\u001b[0m elapsed_time \u001b[38;5;241m=\u001b[39m time\u001b[38;5;241m.\u001b[39mtime() \u001b[38;5;241m-\u001b[39m \u001b[38;5;28mself\u001b[39m\u001b[38;5;241m.\u001b[39m_start_time\n",
      "File \u001b[0;32m~/miniconda3/envs/hyppo-dev/lib/python3.11/site-packages/joblib/parallel.py:975\u001b[0m, in \u001b[0;36mParallel.retrieve\u001b[0;34m(self)\u001b[0m\n\u001b[1;32m    973\u001b[0m \u001b[38;5;28;01mtry\u001b[39;00m:\n\u001b[1;32m    974\u001b[0m     \u001b[38;5;28;01mif\u001b[39;00m \u001b[38;5;28mgetattr\u001b[39m(\u001b[38;5;28mself\u001b[39m\u001b[38;5;241m.\u001b[39m_backend, \u001b[38;5;124m'\u001b[39m\u001b[38;5;124msupports_timeout\u001b[39m\u001b[38;5;124m'\u001b[39m, \u001b[38;5;28;01mFalse\u001b[39;00m):\n\u001b[0;32m--> 975\u001b[0m         \u001b[38;5;28mself\u001b[39m\u001b[38;5;241m.\u001b[39m_output\u001b[38;5;241m.\u001b[39mextend(\u001b[43mjob\u001b[49m\u001b[38;5;241;43m.\u001b[39;49m\u001b[43mget\u001b[49m\u001b[43m(\u001b[49m\u001b[43mtimeout\u001b[49m\u001b[38;5;241;43m=\u001b[39;49m\u001b[38;5;28;43mself\u001b[39;49m\u001b[38;5;241;43m.\u001b[39;49m\u001b[43mtimeout\u001b[49m\u001b[43m)\u001b[49m)\n\u001b[1;32m    976\u001b[0m     \u001b[38;5;28;01melse\u001b[39;00m:\n\u001b[1;32m    977\u001b[0m         \u001b[38;5;28mself\u001b[39m\u001b[38;5;241m.\u001b[39m_output\u001b[38;5;241m.\u001b[39mextend(job\u001b[38;5;241m.\u001b[39mget())\n",
      "File \u001b[0;32m~/miniconda3/envs/hyppo-dev/lib/python3.11/site-packages/joblib/_parallel_backends.py:567\u001b[0m, in \u001b[0;36mLokyBackend.wrap_future_result\u001b[0;34m(future, timeout)\u001b[0m\n\u001b[1;32m    564\u001b[0m \u001b[38;5;250m\u001b[39m\u001b[38;5;124;03m\"\"\"Wrapper for Future.result to implement the same behaviour as\u001b[39;00m\n\u001b[1;32m    565\u001b[0m \u001b[38;5;124;03mAsyncResults.get from multiprocessing.\"\"\"\u001b[39;00m\n\u001b[1;32m    566\u001b[0m \u001b[38;5;28;01mtry\u001b[39;00m:\n\u001b[0;32m--> 567\u001b[0m     \u001b[38;5;28;01mreturn\u001b[39;00m \u001b[43mfuture\u001b[49m\u001b[38;5;241;43m.\u001b[39;49m\u001b[43mresult\u001b[49m\u001b[43m(\u001b[49m\u001b[43mtimeout\u001b[49m\u001b[38;5;241;43m=\u001b[39;49m\u001b[43mtimeout\u001b[49m\u001b[43m)\u001b[49m\n\u001b[1;32m    568\u001b[0m \u001b[38;5;28;01mexcept\u001b[39;00m CfTimeoutError \u001b[38;5;28;01mas\u001b[39;00m e:\n\u001b[1;32m    569\u001b[0m     \u001b[38;5;28;01mraise\u001b[39;00m \u001b[38;5;167;01mTimeoutError\u001b[39;00m \u001b[38;5;28;01mfrom\u001b[39;00m \u001b[38;5;21;01me\u001b[39;00m\n",
      "File \u001b[0;32m~/miniconda3/envs/hyppo-dev/lib/python3.11/concurrent/futures/_base.py:451\u001b[0m, in \u001b[0;36mFuture.result\u001b[0;34m(self, timeout)\u001b[0m\n\u001b[1;32m    448\u001b[0m \u001b[38;5;28;01melif\u001b[39;00m \u001b[38;5;28mself\u001b[39m\u001b[38;5;241m.\u001b[39m_state \u001b[38;5;241m==\u001b[39m FINISHED:\n\u001b[1;32m    449\u001b[0m     \u001b[38;5;28;01mreturn\u001b[39;00m \u001b[38;5;28mself\u001b[39m\u001b[38;5;241m.\u001b[39m__get_result()\n\u001b[0;32m--> 451\u001b[0m \u001b[38;5;28;43mself\u001b[39;49m\u001b[38;5;241;43m.\u001b[39;49m\u001b[43m_condition\u001b[49m\u001b[38;5;241;43m.\u001b[39;49m\u001b[43mwait\u001b[49m\u001b[43m(\u001b[49m\u001b[43mtimeout\u001b[49m\u001b[43m)\u001b[49m\n\u001b[1;32m    453\u001b[0m \u001b[38;5;28;01mif\u001b[39;00m \u001b[38;5;28mself\u001b[39m\u001b[38;5;241m.\u001b[39m_state \u001b[38;5;129;01min\u001b[39;00m [CANCELLED, CANCELLED_AND_NOTIFIED]:\n\u001b[1;32m    454\u001b[0m     \u001b[38;5;28;01mraise\u001b[39;00m CancelledError()\n",
      "File \u001b[0;32m~/miniconda3/envs/hyppo-dev/lib/python3.11/threading.py:320\u001b[0m, in \u001b[0;36mCondition.wait\u001b[0;34m(self, timeout)\u001b[0m\n\u001b[1;32m    318\u001b[0m \u001b[38;5;28;01mtry\u001b[39;00m:    \u001b[38;5;66;03m# restore state no matter what (e.g., KeyboardInterrupt)\u001b[39;00m\n\u001b[1;32m    319\u001b[0m     \u001b[38;5;28;01mif\u001b[39;00m timeout \u001b[38;5;129;01mis\u001b[39;00m \u001b[38;5;28;01mNone\u001b[39;00m:\n\u001b[0;32m--> 320\u001b[0m         \u001b[43mwaiter\u001b[49m\u001b[38;5;241;43m.\u001b[39;49m\u001b[43macquire\u001b[49m\u001b[43m(\u001b[49m\u001b[43m)\u001b[49m\n\u001b[1;32m    321\u001b[0m         gotit \u001b[38;5;241m=\u001b[39m \u001b[38;5;28;01mTrue\u001b[39;00m\n\u001b[1;32m    322\u001b[0m     \u001b[38;5;28;01melse\u001b[39;00m:\n",
      "\u001b[0;31mKeyboardInterrupt\u001b[0m: "
     ]
    }
   ],
   "source": [
    "# This code takes a very long time to run. Highly recommend using a\n",
    "# virtual machine to reproduce\n",
    "outputs = Parallel(n_jobs=-1, verbose=100)(\n",
    "    [delayed(estimate_power)(sim, test) for sim in SIMULATIONS.keys() for test in TESTS]\n",
    ")"
   ]
  },
  {
   "cell_type": "code",
   "execution_count": 17,
   "metadata": {
    "execution": {
     "iopub.execute_input": "2023-05-16T20:18:25.693548Z",
     "iopub.status.busy": "2023-05-16T20:18:25.693303Z",
     "iopub.status.idle": "2023-05-16T20:18:25.702676Z",
     "shell.execute_reply": "2023-05-16T20:18:25.701906Z"
    }
   },
   "outputs": [],
   "source": [
    "def plot_power():\n",
    "    fig, ax = plt.subplots(nrows=4, ncols=5, figsize=(25, 20))\n",
    "    plt.suptitle(\n",
    "        \"Multivariate Independence Testing (Increasing Dimension)\",\n",
    "        y=0.93,\n",
    "        va=\"baseline\",\n",
    "    )\n",
    "\n",
    "    for i, row in enumerate(ax):\n",
    "        for j, col in enumerate(row):\n",
    "            count = 5 * i + j\n",
    "            sim = list(SIMULATIONS.keys())[count]\n",
    "\n",
    "            for test in TESTS[::-1]:\n",
    "                title, dim = SIMULATIONS[sim]\n",
    "                dim_range = find_dim_range(dim)\n",
    "                power = np.genfromtxt(\n",
    "                    \"../kmerf/vs_dimension/{}_{}.csv\".format(sim, test.__name__),\n",
    "                    delimiter=\",\",\n",
    "                )\n",
    "                \n",
    "                kwargs = {\n",
    "                    \"label\": test.__name__,\n",
    "                    \"lw\": 2,\n",
    "                }\n",
    "                if test.__name__ == \"KMERF\":\n",
    "                    kwargs[\"color\"] = \"#e41a1c\"\n",
    "                    kwargs[\"lw\"] = 4\n",
    "\n",
    "                col.plot(dim_range, power, **kwargs)\n",
    "                col.set_xticks([dim_range[0], dim_range[-1]])\n",
    "                col.set_ylim(-0.05, 1.05)\n",
    "                col.set_yticks([])\n",
    "                if j == 0:\n",
    "                    col.set_yticks([0, 1])\n",
    "                col.set_title(title)\n",
    "\n",
    "    fig.text(0.5, 0.07, \"Dimension\", ha=\"center\")\n",
    "    fig.text(\n",
    "        0.07,\n",
    "        0.5,\n",
    "        \"Statistical Power\",\n",
    "        va=\"center\",\n",
    "        rotation=\"vertical\",\n",
    "    )\n",
    "    leg = plt.legend(\n",
    "        bbox_to_anchor=(0.5, 0.07),\n",
    "        bbox_transform=plt.gcf().transFigure,\n",
    "        ncol=len(TESTS),\n",
    "        loc=\"upper center\",\n",
    "    )\n",
    "    leg.get_frame().set_linewidth(0.0)\n",
    "    for legobj in leg.legend_handles:\n",
    "        legobj.set_linewidth(5.0)\n",
    "    plt.subplots_adjust(hspace=0.50)\n",
    "    plt.savefig(\n",
    "        \"../kmerf/figs/indep_power_dimension.pdf\", transparent=True, bbox_inches=\"tight\"\n",
    "    )"
   ]
  },
  {
   "cell_type": "code",
   "execution_count": null,
   "metadata": {
    "execution": {
     "iopub.execute_input": "2023-05-16T20:18:25.704831Z",
     "iopub.status.busy": "2023-05-16T20:18:25.704657Z",
     "iopub.status.idle": "2023-05-16T20:18:28.355288Z",
     "shell.execute_reply": "2023-05-16T20:18:28.354317Z"
    }
   },
   "outputs": [],
   "source": [
    "plot_power()"
   ]
  },
  {
   "cell_type": "code",
   "execution_count": null,
   "metadata": {},
   "outputs": [],
   "source": []
  }
 ],
 "metadata": {
  "kernelspec": {
   "display_name": "Python 3 (ipykernel)",
   "language": "python",
   "name": "python3"
  },
  "language_info": {
   "codemirror_mode": {
    "name": "ipython",
    "version": 3
   },
   "file_extension": ".py",
   "mimetype": "text/x-python",
   "name": "python",
   "nbconvert_exporter": "python",
   "pygments_lexer": "ipython3",
   "version": "3.11.3"
  }
 },
 "nbformat": 4,
 "nbformat_minor": 4
}

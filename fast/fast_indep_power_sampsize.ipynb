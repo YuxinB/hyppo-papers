{
 "cells": [
  {
   "cell_type": "markdown",
   "metadata": {},
   "source": [
    "# Independence Tests Power over Increasing Sample Size"
   ]
  },
  {
   "cell_type": "code",
   "execution_count": 1,
   "metadata": {},
   "outputs": [],
   "source": [
    "import sys, os\n",
    "import multiprocessing as mp\n",
    "from joblib import Parallel, delayed\n",
    "import numpy as np\n",
    "import matplotlib.pyplot as plt\n",
    "from scipy.stats import t\n",
    "\n",
    "from power import power\n",
    "from hyppo.independence import CCA, MGC, RV, Dcorr, Hsic, HHG\n",
    "from hyppo.tools import indep_sim\n",
    "\n",
    "sys.path.append(os.path.realpath('..'))"
   ]
  },
  {
   "cell_type": "code",
   "execution_count": 2,
   "metadata": {},
   "outputs": [],
   "source": [
    "import seaborn as sns\n",
    "sns.set(color_codes=True, style='white', context='talk', font_scale=1.5)\n",
    "PALETTE = sns.color_palette(\"Set1\")\n",
    "sns.set_palette(PALETTE[3:], n_colors=9)"
   ]
  },
  {
   "cell_type": "code",
   "execution_count": 3,
   "metadata": {},
   "outputs": [],
   "source": [
    "MAX_SAMPLE_SIZE = 100\n",
    "STEP_SIZE = 5\n",
    "SAMP_SIZES = range(5, MAX_SAMPLE_SIZE + STEP_SIZE, STEP_SIZE)\n",
    "POWER_REPS = 5"
   ]
  },
  {
   "cell_type": "code",
   "execution_count": 4,
   "metadata": {},
   "outputs": [],
   "source": [
    "SIMULATIONS = [\n",
    "    \"linear\",\n",
    "#     \"exponential\",\n",
    "#     \"cubic\",\n",
    "#     \"joint_normal\",\n",
    "#     \"step\",\n",
    "#     \"quadratic\",\n",
    "#     \"w_shaped\",\n",
    "#     \"spiral\",\n",
    "#     \"uncorrelated_bernoulli\",\n",
    "#     \"logarithmic\",\n",
    "#     \"fourth_root\",\n",
    "#     \"sin_four_pi\",\n",
    "#     \"sin_sixteen_pi\",\n",
    "#     \"square\",\n",
    "#     \"two_parabolas\",\n",
    "#     \"circle\",\n",
    "#     \"ellipse\",\n",
    "#     \"diamond\",\n",
    "#     \"multiplicative_noise\",\n",
    "#     \"multimodal_independence\",\n",
    "]\n",
    "\n",
    "TESTS = [\n",
    "#     CCA,\n",
    "#     MGC,\n",
    "#     RV,\n",
    "    Dcorr,\n",
    "#     Hsic,\n",
    "#     HHG,\n",
    "]"
   ]
  },
  {
   "cell_type": "code",
   "execution_count": 5,
   "metadata": {},
   "outputs": [],
   "source": [
    "def estimate_power(sim, test):\n",
    "    est_power = np.array([np.mean([power(test, sim, n=i, p=1, noise=True) for _ in range(POWER_REPS)])\n",
    "                          for i in SAMP_SIZES])\n",
    "    np.savetxt('../fast/vs_samplesize/{}_{}.csv'.format(sim, test.__name__),\n",
    "               est_power, delimiter=',')\n",
    "    \n",
    "    return est_power\n",
    "\n",
    "def fast_estimate_power(sim, test):\n",
    "    est_power = np.array([np.mean([power(test, sim, n=i, p=1, noise=True, auto=True) for _ in range(POWER_REPS)])\n",
    "                          for i in SAMP_SIZES])\n",
    "    np.savetxt('../fast/vs_samplesize/{}_Fast_{}.csv'.format(sim, test.__name__),\n",
    "               est_power, delimiter=',')\n",
    "    \n",
    "    return est_power"
   ]
  },
  {
   "cell_type": "code",
   "execution_count": 6,
   "metadata": {
    "scrolled": false
   },
   "outputs": [],
   "source": [
    "# outputs = Parallel(n_jobs=-1, verbose=100)(\n",
    "#     [delayed(estimate_power)(sim, test) for sim in SIMULATIONS for test in TESTS]\n",
    "# )"
   ]
  },
  {
   "cell_type": "code",
   "execution_count": 7,
   "metadata": {},
   "outputs": [
    {
     "name": "stdout",
     "output_type": "stream",
     "text": [
      "[Parallel(n_jobs=-1)]: Using backend LokyBackend with 16 concurrent workers.\n",
      "[Parallel(n_jobs=-1)]: Done   1 tasks      | elapsed:   13.2s\n"
     ]
    },
    {
     "ename": "ValueError",
     "evalue": "unable to broadcast argument 1 to output array\nFile \"/Users/sampan/workspace/hyppo/hyppo/independence/dcorr.py\", line 1, ",
     "output_type": "error",
     "traceback": [
      "\u001b[0;31m---------------------------------------------------------------------------\u001b[0m",
      "\u001b[0;31m_RemoteTraceback\u001b[0m                          Traceback (most recent call last)",
      "\u001b[0;31m_RemoteTraceback\u001b[0m: \n\"\"\"\nTraceback (most recent call last):\n  File \"/Users/sampan/opt/miniconda3/envs/hyppo/lib/python3.8/site-packages/joblib/externals/loky/process_executor.py\", line 431, in _process_worker\n    r = call_item()\n  File \"/Users/sampan/opt/miniconda3/envs/hyppo/lib/python3.8/site-packages/joblib/externals/loky/process_executor.py\", line 285, in __call__\n    return self.fn(*self.args, **self.kwargs)\n  File \"/Users/sampan/opt/miniconda3/envs/hyppo/lib/python3.8/site-packages/joblib/_parallel_backends.py\", line 595, in __call__\n    return self.func(*args, **kwargs)\n  File \"/Users/sampan/opt/miniconda3/envs/hyppo/lib/python3.8/site-packages/joblib/parallel.py\", line 262, in __call__\n    return [func(*args, **kwargs)\n  File \"/Users/sampan/opt/miniconda3/envs/hyppo/lib/python3.8/site-packages/joblib/parallel.py\", line 262, in <listcomp>\n    return [func(*args, **kwargs)\n  File \"<ipython-input-5-03936281184f>\", line 10, in fast_estimate_power\n  File \"<ipython-input-5-03936281184f>\", line 10, in <listcomp>\n  File \"<ipython-input-5-03936281184f>\", line 10, in <listcomp>\n  File \"/Users/sampan/workspace/hyppo-benchmarks/fast/power.py\", line 53, in power\n    [_fast_perm_stat(test, sim, n, p, noise=noise) for _ in range(reps)]\n  File \"/Users/sampan/workspace/hyppo-benchmarks/fast/power.py\", line 53, in <listcomp>\n    [_fast_perm_stat(test, sim, n, p, noise=noise) for _ in range(reps)]\n  File \"/Users/sampan/workspace/hyppo-benchmarks/fast/power.py\", line 39, in _fast_perm_stat\n    pvalue = test().test(x, y, auto=True)[1]\n  File \"/Users/sampan/workspace/hyppo/hyppo/independence/dcorr.py\", line 240, in test\n    stat, pvalue = super(Dcorr, self).test(\n  File \"/Users/sampan/workspace/hyppo/hyppo/independence/base.py\", line 93, in test\n    stat, pvalue, null_dist = perm_test(\n  File \"/Users/sampan/workspace/hyppo/hyppo/tools/common.py\", line 425, in perm_test\n    stat = calc_stat(x, y)\n  File \"/Users/sampan/workspace/hyppo/hyppo/independence/dcorr.py\", line 144, in statistic\n    stat = _dcorr(distx, disty, bias=self.bias, is_fast=self.is_fast)\nValueError: unable to broadcast argument 1 to output array\nFile \"/Users/sampan/workspace/hyppo/hyppo/independence/dcorr.py\", line 1, \n\"\"\"",
      "\nThe above exception was the direct cause of the following exception:\n",
      "\u001b[0;31mValueError\u001b[0m                                Traceback (most recent call last)",
      "\u001b[0;32m<ipython-input-7-39bc23fc0a61>\u001b[0m in \u001b[0;36m<module>\u001b[0;34m\u001b[0m\n\u001b[0;32m----> 1\u001b[0;31m outputs = Parallel(n_jobs=-1, verbose=100)(\n\u001b[0m\u001b[1;32m      2\u001b[0m     \u001b[0;34m[\u001b[0m\u001b[0mdelayed\u001b[0m\u001b[0;34m(\u001b[0m\u001b[0mfast_estimate_power\u001b[0m\u001b[0;34m)\u001b[0m\u001b[0;34m(\u001b[0m\u001b[0msim\u001b[0m\u001b[0;34m,\u001b[0m \u001b[0mtest\u001b[0m\u001b[0;34m)\u001b[0m \u001b[0;32mfor\u001b[0m \u001b[0msim\u001b[0m \u001b[0;32min\u001b[0m \u001b[0mSIMULATIONS\u001b[0m \u001b[0;32mfor\u001b[0m \u001b[0mtest\u001b[0m \u001b[0;32min\u001b[0m \u001b[0mTESTS\u001b[0m\u001b[0;34m]\u001b[0m\u001b[0;34m\u001b[0m\u001b[0;34m\u001b[0m\u001b[0m\n\u001b[1;32m      3\u001b[0m )\n",
      "\u001b[0;32m~/opt/miniconda3/envs/hyppo/lib/python3.8/site-packages/joblib/parallel.py\u001b[0m in \u001b[0;36m__call__\u001b[0;34m(self, iterable)\u001b[0m\n\u001b[1;32m   1052\u001b[0m \u001b[0;34m\u001b[0m\u001b[0m\n\u001b[1;32m   1053\u001b[0m             \u001b[0;32mwith\u001b[0m \u001b[0mself\u001b[0m\u001b[0;34m.\u001b[0m\u001b[0m_backend\u001b[0m\u001b[0;34m.\u001b[0m\u001b[0mretrieval_context\u001b[0m\u001b[0;34m(\u001b[0m\u001b[0;34m)\u001b[0m\u001b[0;34m:\u001b[0m\u001b[0;34m\u001b[0m\u001b[0;34m\u001b[0m\u001b[0m\n\u001b[0;32m-> 1054\u001b[0;31m                 \u001b[0mself\u001b[0m\u001b[0;34m.\u001b[0m\u001b[0mretrieve\u001b[0m\u001b[0;34m(\u001b[0m\u001b[0;34m)\u001b[0m\u001b[0;34m\u001b[0m\u001b[0;34m\u001b[0m\u001b[0m\n\u001b[0m\u001b[1;32m   1055\u001b[0m             \u001b[0;31m# Make sure that we get a last message telling us we are done\u001b[0m\u001b[0;34m\u001b[0m\u001b[0;34m\u001b[0m\u001b[0;34m\u001b[0m\u001b[0m\n\u001b[1;32m   1056\u001b[0m             \u001b[0melapsed_time\u001b[0m \u001b[0;34m=\u001b[0m \u001b[0mtime\u001b[0m\u001b[0;34m.\u001b[0m\u001b[0mtime\u001b[0m\u001b[0;34m(\u001b[0m\u001b[0;34m)\u001b[0m \u001b[0;34m-\u001b[0m \u001b[0mself\u001b[0m\u001b[0;34m.\u001b[0m\u001b[0m_start_time\u001b[0m\u001b[0;34m\u001b[0m\u001b[0;34m\u001b[0m\u001b[0m\n",
      "\u001b[0;32m~/opt/miniconda3/envs/hyppo/lib/python3.8/site-packages/joblib/parallel.py\u001b[0m in \u001b[0;36mretrieve\u001b[0;34m(self)\u001b[0m\n\u001b[1;32m    931\u001b[0m             \u001b[0;32mtry\u001b[0m\u001b[0;34m:\u001b[0m\u001b[0;34m\u001b[0m\u001b[0;34m\u001b[0m\u001b[0m\n\u001b[1;32m    932\u001b[0m                 \u001b[0;32mif\u001b[0m \u001b[0mgetattr\u001b[0m\u001b[0;34m(\u001b[0m\u001b[0mself\u001b[0m\u001b[0;34m.\u001b[0m\u001b[0m_backend\u001b[0m\u001b[0;34m,\u001b[0m \u001b[0;34m'supports_timeout'\u001b[0m\u001b[0;34m,\u001b[0m \u001b[0;32mFalse\u001b[0m\u001b[0;34m)\u001b[0m\u001b[0;34m:\u001b[0m\u001b[0;34m\u001b[0m\u001b[0;34m\u001b[0m\u001b[0m\n\u001b[0;32m--> 933\u001b[0;31m                     \u001b[0mself\u001b[0m\u001b[0;34m.\u001b[0m\u001b[0m_output\u001b[0m\u001b[0;34m.\u001b[0m\u001b[0mextend\u001b[0m\u001b[0;34m(\u001b[0m\u001b[0mjob\u001b[0m\u001b[0;34m.\u001b[0m\u001b[0mget\u001b[0m\u001b[0;34m(\u001b[0m\u001b[0mtimeout\u001b[0m\u001b[0;34m=\u001b[0m\u001b[0mself\u001b[0m\u001b[0;34m.\u001b[0m\u001b[0mtimeout\u001b[0m\u001b[0;34m)\u001b[0m\u001b[0;34m)\u001b[0m\u001b[0;34m\u001b[0m\u001b[0;34m\u001b[0m\u001b[0m\n\u001b[0m\u001b[1;32m    934\u001b[0m                 \u001b[0;32melse\u001b[0m\u001b[0;34m:\u001b[0m\u001b[0;34m\u001b[0m\u001b[0;34m\u001b[0m\u001b[0m\n\u001b[1;32m    935\u001b[0m                     \u001b[0mself\u001b[0m\u001b[0;34m.\u001b[0m\u001b[0m_output\u001b[0m\u001b[0;34m.\u001b[0m\u001b[0mextend\u001b[0m\u001b[0;34m(\u001b[0m\u001b[0mjob\u001b[0m\u001b[0;34m.\u001b[0m\u001b[0mget\u001b[0m\u001b[0;34m(\u001b[0m\u001b[0;34m)\u001b[0m\u001b[0;34m)\u001b[0m\u001b[0;34m\u001b[0m\u001b[0;34m\u001b[0m\u001b[0m\n",
      "\u001b[0;32m~/opt/miniconda3/envs/hyppo/lib/python3.8/site-packages/joblib/_parallel_backends.py\u001b[0m in \u001b[0;36mwrap_future_result\u001b[0;34m(future, timeout)\u001b[0m\n\u001b[1;32m    540\u001b[0m         AsyncResults.get from multiprocessing.\"\"\"\n\u001b[1;32m    541\u001b[0m         \u001b[0;32mtry\u001b[0m\u001b[0;34m:\u001b[0m\u001b[0;34m\u001b[0m\u001b[0;34m\u001b[0m\u001b[0m\n\u001b[0;32m--> 542\u001b[0;31m             \u001b[0;32mreturn\u001b[0m \u001b[0mfuture\u001b[0m\u001b[0;34m.\u001b[0m\u001b[0mresult\u001b[0m\u001b[0;34m(\u001b[0m\u001b[0mtimeout\u001b[0m\u001b[0;34m=\u001b[0m\u001b[0mtimeout\u001b[0m\u001b[0;34m)\u001b[0m\u001b[0;34m\u001b[0m\u001b[0;34m\u001b[0m\u001b[0m\n\u001b[0m\u001b[1;32m    543\u001b[0m         \u001b[0;32mexcept\u001b[0m \u001b[0mCfTimeoutError\u001b[0m \u001b[0;32mas\u001b[0m \u001b[0me\u001b[0m\u001b[0;34m:\u001b[0m\u001b[0;34m\u001b[0m\u001b[0;34m\u001b[0m\u001b[0m\n\u001b[1;32m    544\u001b[0m             \u001b[0;32mraise\u001b[0m \u001b[0mTimeoutError\u001b[0m \u001b[0;32mfrom\u001b[0m \u001b[0me\u001b[0m\u001b[0;34m\u001b[0m\u001b[0;34m\u001b[0m\u001b[0m\n",
      "\u001b[0;32m~/opt/miniconda3/envs/hyppo/lib/python3.8/concurrent/futures/_base.py\u001b[0m in \u001b[0;36mresult\u001b[0;34m(self, timeout)\u001b[0m\n\u001b[1;32m    437\u001b[0m                 \u001b[0;32mraise\u001b[0m \u001b[0mCancelledError\u001b[0m\u001b[0;34m(\u001b[0m\u001b[0;34m)\u001b[0m\u001b[0;34m\u001b[0m\u001b[0;34m\u001b[0m\u001b[0m\n\u001b[1;32m    438\u001b[0m             \u001b[0;32melif\u001b[0m \u001b[0mself\u001b[0m\u001b[0;34m.\u001b[0m\u001b[0m_state\u001b[0m \u001b[0;34m==\u001b[0m \u001b[0mFINISHED\u001b[0m\u001b[0;34m:\u001b[0m\u001b[0;34m\u001b[0m\u001b[0;34m\u001b[0m\u001b[0m\n\u001b[0;32m--> 439\u001b[0;31m                 \u001b[0;32mreturn\u001b[0m \u001b[0mself\u001b[0m\u001b[0;34m.\u001b[0m\u001b[0m__get_result\u001b[0m\u001b[0;34m(\u001b[0m\u001b[0;34m)\u001b[0m\u001b[0;34m\u001b[0m\u001b[0;34m\u001b[0m\u001b[0m\n\u001b[0m\u001b[1;32m    440\u001b[0m             \u001b[0;32melse\u001b[0m\u001b[0;34m:\u001b[0m\u001b[0;34m\u001b[0m\u001b[0;34m\u001b[0m\u001b[0m\n\u001b[1;32m    441\u001b[0m                 \u001b[0;32mraise\u001b[0m \u001b[0mTimeoutError\u001b[0m\u001b[0;34m(\u001b[0m\u001b[0;34m)\u001b[0m\u001b[0;34m\u001b[0m\u001b[0;34m\u001b[0m\u001b[0m\n",
      "\u001b[0;32m~/opt/miniconda3/envs/hyppo/lib/python3.8/concurrent/futures/_base.py\u001b[0m in \u001b[0;36m__get_result\u001b[0;34m(self)\u001b[0m\n\u001b[1;32m    386\u001b[0m     \u001b[0;32mdef\u001b[0m \u001b[0m__get_result\u001b[0m\u001b[0;34m(\u001b[0m\u001b[0mself\u001b[0m\u001b[0;34m)\u001b[0m\u001b[0;34m:\u001b[0m\u001b[0;34m\u001b[0m\u001b[0;34m\u001b[0m\u001b[0m\n\u001b[1;32m    387\u001b[0m         \u001b[0;32mif\u001b[0m \u001b[0mself\u001b[0m\u001b[0;34m.\u001b[0m\u001b[0m_exception\u001b[0m\u001b[0;34m:\u001b[0m\u001b[0;34m\u001b[0m\u001b[0;34m\u001b[0m\u001b[0m\n\u001b[0;32m--> 388\u001b[0;31m             \u001b[0;32mraise\u001b[0m \u001b[0mself\u001b[0m\u001b[0;34m.\u001b[0m\u001b[0m_exception\u001b[0m\u001b[0;34m\u001b[0m\u001b[0;34m\u001b[0m\u001b[0m\n\u001b[0m\u001b[1;32m    389\u001b[0m         \u001b[0;32melse\u001b[0m\u001b[0;34m:\u001b[0m\u001b[0;34m\u001b[0m\u001b[0;34m\u001b[0m\u001b[0m\n\u001b[1;32m    390\u001b[0m             \u001b[0;32mreturn\u001b[0m \u001b[0mself\u001b[0m\u001b[0;34m.\u001b[0m\u001b[0m_result\u001b[0m\u001b[0;34m\u001b[0m\u001b[0;34m\u001b[0m\u001b[0m\n",
      "\u001b[0;31mValueError\u001b[0m: unable to broadcast argument 1 to output array\nFile \"/Users/sampan/workspace/hyppo/hyppo/independence/dcorr.py\", line 1, "
     ]
    }
   ],
   "source": [
    "outputs = Parallel(n_jobs=-1, verbose=100)(\n",
    "    [delayed(fast_estimate_power)(sim, test) for sim in SIMULATIONS for test in TESTS]\n",
    ")"
   ]
  },
  {
   "cell_type": "code",
   "execution_count": null,
   "metadata": {},
   "outputs": [],
   "source": [
    "def plot_power():\n",
    "    fig, ax = plt.subplots(nrows=4, ncols=5, figsize=(25,20))\n",
    "    \n",
    "    sim_title = [\n",
    "        \"Linear\",\n",
    "        \"Exponential\",\n",
    "        \"Cubic\",\n",
    "        \"Joint Normal\",\n",
    "        \"Step\",\n",
    "        \"Quadratic\",\n",
    "        \"W-Shaped\",\n",
    "        \"Spiral\",\n",
    "        \"Bernoulli\",\n",
    "        \"Logarithmic\",\n",
    "        \"Fourth Root\",\n",
    "        \"Sine 4\\u03C0\",\n",
    "        \"Sine 16\\u03C0\",\n",
    "        \"Square\",\n",
    "        \"Two Parabolas\",\n",
    "        \"Circle\",\n",
    "        \"Ellipse\",\n",
    "        \"Diamond\",\n",
    "        \"Multiplicative\",\n",
    "        \"Independence\"\n",
    "    ]\n",
    "    \n",
    "    plt.suptitle(\"Multivariate Independence Testing (Increasing Sample Size)\", y=0.93, va='baseline')\n",
    "    \n",
    "    for i, row in enumerate(ax):\n",
    "        for j, col in enumerate(row):\n",
    "            count = 5*i + j\n",
    "            sim = SIMULATIONS[count]\n",
    "            \n",
    "            for test in TESTS:\n",
    "                power = np.genfromtxt('../fast/vs_samplesize/{}_{}.csv'.format(sim, test.__name__),\n",
    "                                      delimiter=',')\n",
    "                hsic_power = np.genfromtxt('../fast/vs_samplesize/{}_Hsic.csv'.format(sim),\n",
    "                                      delimiter=',')\n",
    "                \n",
    "                colors = {\n",
    "                    \"MGC\" : \"#e41a1c\",\n",
    "                    \"Dcorr\" : \"#377eb8\",\n",
    "                    \"Hsic\" : \"#4daf4a\",\n",
    "                }\n",
    "                test_name = test.__name__\n",
    "                if test_name in [\"Dcorr\", \"Hsic\"]:\n",
    "                    fast_power = np.genfromtxt('../fast/vs_samplesize/{}_Fast_{}.csv'.format(sim, test.__name__),\n",
    "                                      delimiter=',')\n",
    "                \n",
    "                if test_name == \"MGC\":\n",
    "                    col.plot(SAMP_SIZES, power - hsic_power, color=colors[test_name], label=test_name, lw=2)\n",
    "                elif test_name in [\"Dcorr\", \"Hsic\"]:\n",
    "                    col.plot(SAMP_SIZES, power - hsic_power, color=colors[test_name], label=test_name, lw=4)\n",
    "                    col.plot(SAMP_SIZES, fast_power - hsic_power, color=colors[test_name], label=\"Fast \" + test_name, lw=4, linestyle='dashed')\n",
    "                else:\n",
    "                    col.plot(SAMP_SIZES, power - hsic_power, label=test_name, lw=2)\n",
    "\n",
    "                col.set_xticks([])\n",
    "                if i == 3:\n",
    "                    col.set_xticks([SAMP_SIZES[0], SAMP_SIZES[-1]])\n",
    "                col.set_ylim(-1.05, 1.05)\n",
    "                col.set_yticks([])\n",
    "                if j == 0:\n",
    "                    col.set_yticks([-1, 0, 1])\n",
    "                col.set_title(sim_title[count])\n",
    "    \n",
    "    fig.text(0.5, 0.07, 'Sample Size', ha='center')\n",
    "    fig.text(0.07, 0.5, 'Statistical Power Relative to Hsic', va='center', rotation='vertical')\n",
    "    leg = plt.legend(bbox_to_anchor=(0.5, 0.07), bbox_transform=plt.gcf().transFigure,\n",
    "                     ncol=5, loc='upper center')\n",
    "    leg.get_frame().set_linewidth(0.0)\n",
    "    for legobj in leg.legendHandles:\n",
    "        legobj.set_linewidth(5.0)\n",
    "    plt.subplots_adjust(hspace=.50)\n",
    "    plt.savefig('../fast/figs/indep_power_sampsize.pdf', transparent=True, bbox_inches='tight')"
   ]
  },
  {
   "cell_type": "code",
   "execution_count": null,
   "metadata": {},
   "outputs": [],
   "source": [
    "plot_power()"
   ]
  },
  {
   "cell_type": "code",
   "execution_count": null,
   "metadata": {},
   "outputs": [],
   "source": []
  },
  {
   "cell_type": "code",
   "execution_count": null,
   "metadata": {},
   "outputs": [],
   "source": []
  }
 ],
 "metadata": {
  "kernelspec": {
   "display_name": "Python 3",
   "language": "python",
   "name": "python3"
  },
  "language_info": {
   "codemirror_mode": {
    "name": "ipython",
    "version": 3
   },
   "file_extension": ".py",
   "mimetype": "text/x-python",
   "name": "python",
   "nbconvert_exporter": "python",
   "pygments_lexer": "ipython3",
   "version": "3.8.5"
  }
 },
 "nbformat": 4,
 "nbformat_minor": 2
}
